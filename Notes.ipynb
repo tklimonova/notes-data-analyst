{
 "cells": [
  {
   "cell_type": "markdown",
   "metadata": {},
   "source": [
    "## Data landscape\n",
    "\n",
    "Lectures: \n",
    "\n",
    "- Data & marketing - amanda schultz, epidemic sound\n",
    "- Data science - Sahar Asadi, researcher lead at king\n",
    "- Product ownership, Agile, and data - danny mallas periera, spotify\n",
    "- Designing products with data, tobias ahlin\n",
    "\n",
    "5 levels of awarness\n",
    "\n",
    "1. We make descioson based on gut-feelinv\n",
    "2. Our decsion are informed by available data\n",
    "3. We measure the impact of our descison\n",
    "4. We formulate our beliefs as hypothesis before measuring\n",
    "5. We organizar our hypothese intot a belief system \n",
    "\n",
    "#### How do they measure the impact?\n",
    "\n",
    "They run A/B-test on the basic level. \n",
    "\n",
    "A/B test we espoase the two groups to an experience identifical experiences and then if we observe a significant difference between the two we can determine that the differenbce between the experience caused that divergence. \n",
    "\n",
    "For example you can have one design and then you have another design. Then you compare if people behave anyt differently. \n",
    "\n",
    "2 weeks, 30 days and 90 days retentions for spotify tests. Returning customers is one of the best prodxies for the qualityb of a subscription service. \n",
    "\n",
    "To know if the chnage is meaningsful is significant means 95% likelt to been caused by the change. \n",
    "\n",
    "Lets talk about sample size \n",
    "\n",
    "As we increase the sample size the absolute difference will increase but the releative difference will decrease\n",
    "\n",
    "\n",
    "To know if a change is significant we need enough users\n",
    "\n",
    "The problem with quant data is that if we know something is TRUE we don't necessary WHY it is true. \n",
    "\n",
    "We can have theories. \n",
    "\n",
    "To understand WHY we need to use qualitative data is nuanced and rich of dertails and it'll tpically help us form new hypotheses about why certain things are happening. \n",
    "\n",
    "\n",
    "But it is very diff to prove that something is certain with qualitatibve data because the sample size is too small\n",
    "\n",
    "QUAL & QUANT\n",
    "\n",
    "\n",
    "We trying to improve our forcasting. \n",
    "\n",
    "The challenge is that we're really bad at predicting the success of our ideas\n",
    "\n",
    "We get better at making predications with time...Or do we?\n",
    "\n",
    "Do we actually know of ways to \n",
    "\n",
    "#### Hypothesis Driven Design\n",
    "\n",
    "A process formed around a/b-testing\n",
    "\n",
    "Treat any project like a gamble we wbeliev that betting X amount of moneyt working on Y will produce outcome Z\n",
    "  \n",
    "After you produce a guess ypu formaulrate a hypotheis: We believe that by doing X will produce Z\n",
    "\n",
    "Then you measure the effect and if you see significant effect you launch it\n",
    "\n",
    "More tests come out negative but trheir process are built to capature and share learnings\n",
    "\n",
    "\n",
    "\n",
    "\n",
    "\n",
    "\n",
    "\n"
   ]
  },
  {
   "cell_type": "code",
   "execution_count": 11,
   "metadata": {},
   "outputs": [],
   "source": [
    "v = [1,2,3]"
   ]
  },
  {
   "cell_type": "code",
   "execution_count": 12,
   "metadata": {},
   "outputs": [],
   "source": [
    "import numpy as np"
   ]
  },
  {
   "cell_type": "markdown",
   "metadata": {},
   "source": [
    "wejdkslsa"
   ]
  },
  {
   "cell_type": "code",
   "execution_count": 9,
   "metadata": {
    "scrolled": true
   },
   "outputs": [
    {
     "ename": "NameError",
     "evalue": "name 'mean' is not defined",
     "output_type": "error",
     "traceback": [
      "\u001b[0;31m---------------------------------------------------------------------------\u001b[0m",
      "\u001b[0;31mNameError\u001b[0m                                 Traceback (most recent call last)",
      "\u001b[0;32m<ipython-input-9-9d6545956b1d>\u001b[0m in \u001b[0;36m<module>\u001b[0;34m\u001b[0m\n\u001b[0;32m----> 1\u001b[0;31m \u001b[0mmean\u001b[0m\u001b[0;34m(\u001b[0m\u001b[0mv\u001b[0m\u001b[0;34m)\u001b[0m\u001b[0;34m\u001b[0m\u001b[0;34m\u001b[0m\u001b[0m\n\u001b[0m",
      "\u001b[0;31mNameError\u001b[0m: name 'mean' is not defined"
     ]
    }
   ],
   "source": [
    "np."
   ]
  },
  {
   "cell_type": "code",
   "execution_count": null,
   "metadata": {},
   "outputs": [],
   "source": []
  }
 ],
 "metadata": {
  "kernelspec": {
   "display_name": "Python 3",
   "language": "python",
   "name": "python3"
  },
  "language_info": {
   "codemirror_mode": {
    "name": "ipython",
    "version": 3
   },
   "file_extension": ".py",
   "mimetype": "text/x-python",
   "name": "python",
   "nbconvert_exporter": "python",
   "pygments_lexer": "ipython3",
   "version": "3.7.3"
  }
 },
 "nbformat": 4,
 "nbformat_minor": 2
}
